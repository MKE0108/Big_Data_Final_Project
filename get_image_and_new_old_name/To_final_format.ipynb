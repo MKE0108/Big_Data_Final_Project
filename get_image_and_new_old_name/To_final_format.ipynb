{
 "cells": [
  {
   "cell_type": "markdown",
   "metadata": {},
   "source": [
    "## 最後的國家code統一格式\n",
    "CountryCode.csv\n",
    "```csv\n",
    "Country,Code,OldCode\n",
    "Chinese Taipei,TPE,RCF TWN\n",
    "```"
   ]
  },
  {
   "cell_type": "code",
   "execution_count": 1,
   "metadata": {},
   "outputs": [
    {
     "name": "stdout",
     "output_type": "stream",
     "text": [
      "{'IND', 'PRK', 'ETH', 'RSA', 'VIN', 'GUA', 'CZE', 'FIN', 'HON', 'SLO', 'IRI', 'BOL', 'TUV', 'POR', 'BLR', 'TAN', 'ARG', 'SSD', 'TLS', 'MHL', 'SLE', 'DJI', 'GUI', 'IRQ', 'MAS', 'NCA', 'AZE', 'ROU', 'NOR', 'ESA', 'BEN', 'UKR', 'URU', 'GUY', 'GRE', 'GUM', 'HKG', 'NGR', 'UAE', 'EST', 'MDV', 'NED', 'LAO', 'ECU', 'SEY', 'HUN', 'PLE', 'JOR', 'KAZ', 'ISV', 'STP', 'GBS', 'TOG', 'MNE', 'LAT', 'ESP', 'PER', 'THA', 'TUN', 'VEN', 'VIE', 'BEL', 'BOT', 'EGY', 'MKD', 'SGP', 'COD', 'GAB', 'MAW', 'KSA', 'PAK', 'MRI', 'NAM', 'UZB', 'AUT', 'GRN', 'INA', 'SWZ', 'SMR', 'OMA', 'BIZ', 'SOL', 'MGL', 'NZL', 'PLW', 'SKN', 'TPE', 'BUL', 'LBN', 'KIR', 'FSM', 'SUI', 'BIH', 'LIE', 'SEN', 'DEN', 'ISL', 'CAN', 'GEQ', 'CIV', 'MLT', 'MAR', 'IRL', 'KEN', 'NRU', 'BAN', 'CMR', 'PUR', 'ARM', 'MAD', 'MLI', 'KGZ', 'SYR', 'LCA', 'AND', 'ANT', 'SAM', 'SRB', 'ANG', 'PAR', 'ALB', 'BHU', 'GBR', 'BRN', 'AFG', 'GER', 'JAM', 'UGA', 'QAT', 'SVK', 'ERI', 'YEM', 'CPV', 'SUR', 'GAM', 'SOM', 'MTN', 'LUX', 'DMA', 'ASA', 'BAH', 'LBR', 'VAN', 'ITA', 'CHA', 'BAR', 'BRA', 'DOM', 'JPN', 'ALG', 'NEP', 'GEO', 'COM', 'IVB', 'CYP', 'TJK', 'MYA', 'CRO', 'CGO', 'KOS', 'BRU', 'TUR', 'TKM', 'AUS', 'CRC', 'FRA', 'LES', 'MEX', 'SUD', 'MOZ', 'SWE', 'COK', 'BDI', 'KUW', 'NIG', 'COL', 'RUS', 'POL', 'TGA', 'ZIM', 'ARU', 'MDA', 'MAC', 'USA', 'CAY', 'LBA', 'PHI', 'KOR', 'CHN', 'MON', 'CUB', 'LTU', 'GHA', 'ISR', 'CHI', 'ZAM', 'BER', 'PNG', 'TTO', 'RWA', 'HAI', 'BUR', 'PAN', 'FIJ', 'CAF', 'CAM', 'SRI'}\n",
      "                               Country Code  OldCode\n",
      "0                          Afghanistan  AFG      NaN\n",
      "1                              Albania  ALB      NaN\n",
      "2                              Algeria  ALG  AGR AGL\n",
      "3                              Andorra  AND      NaN\n",
      "4                               Angola  ANG      ANO\n",
      "..                                 ...  ...      ...\n",
      "202                            Vietnam  VIE  VET VNM\n",
      "203   Saint Vincent and the Grenadines  VIN      NaN\n",
      "204                              Yemen  YEM      NaN\n",
      "205                             Zambia  ZAM      NRH\n",
      "206                           Zimbabwe  ZIM      RHO\n",
      "\n",
      "[207 rows x 3 columns]\n"
     ]
    }
   ],
   "source": [
    "import pandas as pd\n",
    "import json\n",
    "CurrentCountryCode=set()\n",
    "with open('Code2Country.json', 'r') as f:\n",
    "    country = json.load(f)\n",
    "    CurrentCountryCode = set(country.keys())\n",
    "    #reverse\n",
    "    country = [[v,k] for k,v in country.items()]\n",
    "country =pd.DataFrame(country,columns=['Country','Code'])\n",
    "with open('oldCode2newCode.json', 'r') as f:\n",
    "    config = json.load(f)\n",
    "    #reverse\n",
    "    New2Old = {}\n",
    "    for k,v in config.items():\n",
    "        if(v not in New2Old):\n",
    "            New2Old[v] = []\n",
    "        if(k not in CurrentCountryCode):\n",
    "            New2Old[v].append(k)\n",
    "New2Old = {k:\" \".join(v) for k,v in New2Old.items()}\n",
    "#add new column\n",
    "country['OldCode'] = country['Code'].map(New2Old)\n",
    "print(CurrentCountryCode)\n",
    "print(country)\n",
    "#都用str保存，不然会有问题\n",
    "country.to_csv('CountryCode.csv',index=False)\n",
    "\n"
   ]
  }
 ],
 "metadata": {
  "kernelspec": {
   "display_name": "py39torch",
   "language": "python",
   "name": "python3"
  },
  "language_info": {
   "codemirror_mode": {
    "name": "ipython",
    "version": 3
   },
   "file_extension": ".py",
   "mimetype": "text/x-python",
   "name": "python",
   "nbconvert_exporter": "python",
   "pygments_lexer": "ipython3",
   "version": "3.9.18"
  }
 },
 "nbformat": 4,
 "nbformat_minor": 2
}
