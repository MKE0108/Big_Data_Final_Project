{
 "cells": [
  {
   "cell_type": "code",
   "execution_count": 2,
   "id": "492b6b1d-2bd1-44fb-b65d-c5a4d3696f3b",
   "metadata": {
    "tags": []
   },
   "outputs": [],
   "source": [
    "from selenium import webdriver\n",
    "from selenium.webdriver.chrome.service import Service\n",
    "from webdriver_manager.chrome import ChromeDriverManager\n",
    "from selenium.webdriver.common.by import By\n",
    "from selenium.webdriver.support.ui import WebDriverWait\n",
    "from selenium.webdriver.support import expected_conditions as EC\n",
    "import requests\n",
    "import os\n",
    "\n",
    "# Setup Chrome driver\n",
    "service = Service(ChromeDriverManager().install())\n",
    "options = webdriver.ChromeOptions()\n",
    "driver = webdriver.Chrome(service=service, options=options)\n",
    "\n",
    "try:\n",
    "    driver.implicitly_wait(10)\n",
    "    url = \"https://en.wikipedia.org/wiki/List_of_IOC_country_codes#Current_NOCs\"\n",
    "    driver.get(url)\n",
    "    \n",
    "    # Wait until the table is loaded\n",
    "    WebDriverWait(driver, 20).until(\n",
    "        EC.presence_of_element_located((By.XPATH, '//*[@id=\"mw-content-text\"]/div[1]/table[2]'))\n",
    "    )\n",
    "    \n",
    "    # Get table element\n",
    "    table = driver.find_element(By.XPATH, '//*[@id=\"mw-content-text\"]/div[1]/table[2]')\n",
    "    rows = table.find_elements(By.TAG_NAME, \"tr\")\n",
    "    \n",
    "    # Create a directory for country flags\n",
    "    os.makedirs('Country', exist_ok=True)\n",
    "    \n",
    "    for row in rows:\n",
    "        cols = row.find_elements(By.TAG_NAME, \"td\")\n",
    "        if len(cols) > 1:  # Check if row has enough columns\n",
    "            country_code = cols[0].text\n",
    "            img_src = cols[1].find_element(By.TAG_NAME, \"img\").get_attribute('src')\n",
    "            \n",
    "            # Download and save the image\n",
    "            response = requests.get(img_src)\n",
    "            if response.status_code == 200:\n",
    "                with open(os.path.join('Country', f\"{country_code}.png\"), 'wb') as file:\n",
    "                    file.write(response.content)\n",
    "                    \n",
    "finally:\n",
    "    driver.quit()  # Ensure the driver is closed properly\n"
   ]
  }
 ],
 "metadata": {
  "kernelspec": {
   "display_name": "Python 3 (ipykernel)",
   "language": "python",
   "name": "python3"
  },
  "language_info": {
   "codemirror_mode": {
    "name": "ipython",
    "version": 3
   },
   "file_extension": ".py",
   "mimetype": "text/x-python",
   "name": "python",
   "nbconvert_exporter": "python",
   "pygments_lexer": "ipython3",
   "version": "3.11.4"
  }
 },
 "nbformat": 4,
 "nbformat_minor": 5
}
