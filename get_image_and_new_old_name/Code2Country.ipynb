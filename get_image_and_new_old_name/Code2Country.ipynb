{
 "cells": [
  {
   "cell_type": "code",
   "execution_count": 1,
   "id": "492b6b1d-2bd1-44fb-b65d-c5a4d3696f3b",
   "metadata": {
    "tags": []
   },
   "outputs": [],
   "source": [
    "from selenium import webdriver\n",
    "from selenium.webdriver.chrome.service import Service\n",
    "from webdriver_manager.chrome import ChromeDriverManager\n",
    "from selenium.webdriver.common.by import By\n",
    "from selenium.webdriver.support.ui import WebDriverWait\n",
    "from selenium.webdriver.support import expected_conditions as EC\n",
    "import pandas as pd\n",
    "import json\n",
    "\n",
    "# Setup Chrome driver\n",
    "service = Service(ChromeDriverManager().install())\n",
    "options = webdriver.ChromeOptions()\n",
    "driver = webdriver.Chrome(service=service, options=options)\n",
    "\n",
    "try:\n",
    "    driver.implicitly_wait(10)\n",
    "    url = \"https://en.wikipedia.org/wiki/List_of_IOC_country_codes#Current_NOCs\"\n",
    "    driver.get(url)\n",
    "    \n",
    "    # Wait until the table is loaded\n",
    "    WebDriverWait(driver, 20).until(\n",
    "        EC.presence_of_element_located((By.XPATH, '//*[@id=\"mw-content-text\"]/div[1]/table[2]'))\n",
    "    )\n",
    "    \n",
    "    # Get table element\n",
    "    table = driver.find_element(By.XPATH, '//*[@id=\"mw-content-text\"]/div[1]/table[2]')\n",
    "    \n",
    "    # Initialize a dictionary to store the data\n",
    "    country_data = {}\n",
    "\n",
    "    # Iterate over each row in the table to extract data\n",
    "    rows = table.find_elements(By.TAG_NAME, \"tr\")[1:]  # Skip header row\n",
    "    for row in rows:\n",
    "        cols = row.find_elements(By.TAG_NAME, \"td\")\n",
    "        if len(cols) > 1:  # Ensure the row has the required columns\n",
    "            code = cols[0].text\n",
    "            committee = cols[1].text\n",
    "            country_data[code] = committee\n",
    "    \n",
    "    # Convert dictionary to JSON and save it to a file\n",
    "    with open('Code2Country.json', 'w') as json_file:\n",
    "        json.dump(country_data, json_file, indent=4)\n",
    "        \n",
    "finally:\n",
    "    driver.quit()  # Ensure the driver is closed properly\n"
   ]
  },
  {
   "cell_type": "code",
   "execution_count": null,
   "id": "30479212-5ad7-44f1-8558-58d1e35f49a3",
   "metadata": {},
   "outputs": [],
   "source": []
  }
 ],
 "metadata": {
  "kernelspec": {
   "display_name": "Python 3 (ipykernel)",
   "language": "python",
   "name": "python3"
  },
  "language_info": {
   "codemirror_mode": {
    "name": "ipython",
    "version": 3
   },
   "file_extension": ".py",
   "mimetype": "text/x-python",
   "name": "python",
   "nbconvert_exporter": "python",
   "pygments_lexer": "ipython3",
   "version": "3.11.4"
  }
 },
 "nbformat": 4,
 "nbformat_minor": 5
}
