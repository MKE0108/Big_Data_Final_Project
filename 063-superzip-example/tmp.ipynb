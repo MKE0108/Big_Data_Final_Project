{
 "cells": [
  {
   "cell_type": "code",
   "execution_count": 11,
   "metadata": {},
   "outputs": [
    {
     "data": {
      "text/plain": [
       "True"
      ]
     },
     "execution_count": 11,
     "metadata": {},
     "output_type": "execute_result"
    }
   ],
   "source": [
    "# draw 22*15 white flag with question mark\n",
    "import cv2\n",
    "import numpy as np\n",
    "cannva=np.zeros((15,22,3),dtype=np.uint8)\n",
    "#red\n",
    "cannva[0:15,0:22]=(0,0,255)\n",
    "#draw \"?\" with cv2.putText\n",
    "cv2.putText(cannva,\"?\",(8,10),cv2.FONT_HERSHEY_SIMPLEX,0.25,(0,0,0),1)\n",
    "cv2.imwrite(\"flag.png\",cannva)"
   ]
  }
 ],
 "metadata": {
  "kernelspec": {
   "display_name": "py39torch",
   "language": "python",
   "name": "python3"
  },
  "language_info": {
   "codemirror_mode": {
    "name": "ipython",
    "version": 3
   },
   "file_extension": ".py",
   "mimetype": "text/x-python",
   "name": "python",
   "nbconvert_exporter": "python",
   "pygments_lexer": "ipython3",
   "version": "3.9.18"
  }
 },
 "nbformat": 4,
 "nbformat_minor": 2
}
